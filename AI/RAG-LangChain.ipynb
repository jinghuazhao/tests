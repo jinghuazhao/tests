{
 "cells": [
  {
   "cell_type": "markdown",
   "id": "06cc7e9a",
   "metadata": {},
   "source": [
    "# A Practical Guide to Building Local RAG Applications with LangChain\n",
    "\n",
    "*By Iván Palomares Carrascosa on April 2, 2025 in Practical Machine Learning*\n",
    "\n",
    "![Image by Author | Ideogram](https://machinelearningmastery.com/wp-content/uploads/2025/03/aRA19PNURdefi6Uc03ovIw.jpeg)\n",
    "\n",
    "**Retrieval Augmented Generation (RAG)** encompasses a family of systems that extend conventional language models, large and otherwise (LLMs), to incorporate context based on retrieved knowledge from a document base. This integration leads to more truthful and relevant responses to user queries.\n",
    "\n",
    "In this context, **LangChain** has gained particular attention as a framework that simplifies the development of RAG applications. It provides orchestration tools for integrating LLMs with external data sources, managing retrieval pipelines, and handling complex workflows in a robust and scalable manner.\n",
    "\n",
    "This article offers a practical, step-by-step guide to building a simple local RAG application with LangChain using Python. It serves as an introductory resource, supplementing the foundational concepts covered in the \"Understanding RAG\" series. If you're new to RAG and seek a theoretical background, consider reviewing that series first.\n",
    "\n",
    "## Step-by-Step Practical Guide\n",
    "\n",
    "Let's dive into building our first local RAG system with LangChain. For reference, the following diagram, adapted from \"Understanding RAG Part II,\" illustrates a simplified version of a basic RAG system and its core components.\n",
    "\n",
    "![A basic RAG scheme](https://machinelearningmastery.com/wp-content/uploads/2025/03/classicalrag.png)\n",
    "\n",
    "**Figure 1:** A basic RAG scheme\n",
    "\n",
    "**1. Installing Necessary Libraries**\n",
    "\n",
    "First, install the required libraries and frameworks. The latest versions of LangChain may require `langchain-community`, so it's included in the installation. FAISS is a framework for efficient similarity search in a vector database. For loading and using existing LLMs, we'll use Hugging Face’s `transformers` and `sentence-transformers` libraries, the latter providing pre-trained models optimized for sentence-level text embeddings."
   ]
  },
  {
   "cell_type": "code",
   "execution_count": null,
   "id": "52ab527e",
   "metadata": {},
   "outputs": [],
   "source": [
    "pip install langchain langchain_community faiss-cpu sentence-transformers transformers"
   ]
  },
  {
   "cell_type": "markdown",
   "id": "f078941d",
   "metadata": {},
   "source": [
    "**2. Importing Required Modules**\n",
    "\n",
    "Next, import the necessary modules to begin coding."
   ]
  },
  {
   "cell_type": "code",
   "execution_count": null,
   "id": "a804fb7b",
   "metadata": {},
   "outputs": [],
   "source": [
    "from langchain.llms import HuggingFacePipeline\n",
    "from langchain.chains import RetrievalQA\n",
    "from langchain.chains.question_answering import load_qa_chain\n",
    "from langchain.prompts import PromptTemplate\n",
    "from transformers import pipeline\n",
    "from langchain_community.vectorstores import FAISS"
   ]
  },
  {
   "cell_type": "markdown",
   "id": "7b040002",
   "metadata": {},
   "source": [
    "**3. Preparing the Knowledge Base**\n",
    "\n",
    "The core of a RAG system is its knowledge base, implemented as a vector database. This database stores text documents used for context retrieval, with information typically encoded as vector embeddings. For this example, we'll use a collection of nine short text documents describing various destinations in Eastern and Southeast Asia. The dataset is available in a compressed `.zip` file [here](https://github.com/gakudo-ai/open-datasets/raw/refs/heads/main/asia_documents.zip).\n",
    "\n",
    "The following code downloads, decompresses, and extracts the text files locally:"
   ]
  },
  {
   "cell_type": "code",
   "execution_count": null,
   "id": "00919ac7",
   "metadata": {},
   "outputs": [],
   "source": [
    "import os\n",
    "import urllib.request\n",
    "import zipfile\n",
    "\n",
    "zip_url = \"https://github.com/gakudo-ai/open-datasets/raw/refs/heads/main/asia_documents.zip\"\n",
    "zip_path = \"asia_documents.zip\"\n",
    "extract_folder = \"asia_txt_files\"\n",
    "\n",
    "print(\"Downloading zip file...\")\n",
    "urllib.request.urlretrieve(zip_url, zip_path)\n",
    "print(\"Download complete!\")\n",
    "\n",
    "print(\"Extracting files...\")\n",
    "os.makedirs(extract_folder, exist_ok=True)\n",
    "with zipfile.ZipFile(zip_path, \"r\") as zip_ref:\n",
    "    zip_ref.extractall(extract_folder)\n",
    "\n",
    "print(f\"Files extracted to: {extract_folder}\")\n",
    "\n",
    "print(\"Extracted files:\")\n",
    "print(os.listdir(extract_folder))"
   ]
  },
  {
   "cell_type": "markdown",
   "id": "35788814",
   "metadata": {},
   "source": [
    "**4. Chunking and Vector Embedding**\n",
    "\n",
    "To efficiently process documents, split them into chunks and transform them into vector embeddings. Chunking is essential in RAG systems because LLMs have token limitations, and efficient retrieval requires splitting documents into manageable pieces while maintaining contextual integrity.\n",
    "\n",
    "FAISS will handle efficiently storing and indexing the vector embeddings, enabling accurate and efficient similarity-based searches. The `as_retriever()` method integrates with LangChain’s retrieval methods, allowing dynamic retrieval of relevant document chunks to optimize the LLM’s responses.\n",
    "\n",
    "For embedding creation, we'll use the Hugging Face model `sentence-transformers/all-MiniLM-L6-v2`."
   ]
  },
  {
   "cell_type": "code",
   "execution_count": null,
   "id": "924e51e4",
   "metadata": {},
   "outputs": [],
   "source": [
    "import os\n",
    "from langchain_community.document_loaders import TextLoader\n",
    "from langchain.text_splitter import CharacterTextSplitter\n",
    "from langchain_community.embeddings import HuggingFaceEmbeddings\n",
    "\n",
    "folder_path = \"asia_txt_files\"\n",
    "\n",
    "documents = []\n",
    "for filename in os.listdir(folder_path):\n",
    "    if filename.endswith(\".txt\"):\n",
    "        file_path = os.path.join(folder_path, filename)\n",
    "        loader = TextLoader(file_path)\n",
    "        documents.extend(loader.load())\n",
    "\n",
    "text_splitter = CharacterTextSplitter(chunk_size=500, chunk_overlap=100)\n",
    "docs = text_splitter.split_documents(documents)\n",
    "\n",
    "embedding_model = HuggingFaceEmbeddings(model_name=\"sentence-transformers/all-MiniLM-L6-v2\")\n",
    "\n",
    "vectorstore = FAISS.from_documents(docs, embedding_model)\n",
    "retriever = vectorstore.as_retriever()"
   ]
  },
  {
   "cell_type": "markdown",
   "id": "4fa05840",
   "metadata": {},
   "source": [
    "**5. Defining the Language Model Pipeline**\n",
    "\n",
    "Define an LLM pipeline for text generation using Hugging Face’s Transformers library and the GPT-2 model. The `device=0` argument ensures the model runs on a GPU (if available), significantly improving inference speed. The `max_new_tokens` argument controls the length of the generated response, preventing excessively long or truncated outputs while maintaining coherence."
   ]
  },
  {
   "cell_type": "code",
   "execution_count": null,
   "id": "b036323c",
   "metadata": {},
   "outputs": [],
   "source": [
    "from langchain.chains import LLMChain\n",
    "from langchain.prompts import PromptTemplate\n",
    "from langchain.chains import RetrievalQA\n",
    "from transformers import pipeline\n",
    "\n",
    "llm_pipeline = pipeline(\"text-generation\", model=\"gpt2\", device=0, max_new_tokens=200)\n",
    "llm = HuggingFacePipeline(pipeline=llm_pipeline)"
   ]
  },
  {
   "cell_type": "markdown",
   "id": "506d1439",
   "metadata": {},
   "source": [
    "**6. Creating a Prompt Template and LLM Chain**\n",
    "\n",
    "Define a prompt template that incorporates the retrieved context dynamically, ensuring the model generates responses grounded in relevant knowledge. This step aligns with the Augmentation block in the previously discussed RAG architecture.\n",
    "\n",
    "Then, define an LLM chain, a key LangChain component that orchestrates the interaction between the LLM and the prompt template, ensuring a structured query-response flow."
   ]
  },
  {
   "cell_type": "code",
   "execution_count": null,
   "id": "674b358a",
   "metadata": {},
   "outputs": [],
   "source": [
    "prompt_template = \"Answer the following question based on the provided context: {context}\\n\\nQuestion: {query}\\nAnswer:\"\n",
    "\n",
    "prompt = PromptTemplate(input_variables=[\"query\", \"context\"], template=prompt_template)\n",
    "\n",
    "llm_chain = LLMChain(llm=llm, prompt=prompt)"
   ]
  },
  {
   "cell_type": "markdown",
   "id": "ecefb7d0",
   "metadata": {},
   "source": [
    "**7. Setting Up the RetrievalQA System**\n",
    "\n",
    "Initialize a Question-Answering (QA) system using the `RetrievalQA` class. This class links the retriever with the LLM chain, completing the RAG system setup."
   ]
  },
  {
   "cell_type": "code",
   "execution_count": null,
   "id": "904bb123",
   "metadata": {},
   "outputs": [],
   "source": [
    "retrieval_qa = RetrievalQA.from_chain_type(\n",
    "    llm=llm,\n",
    "    chain_type=\"stuff\",\n",
    "    retriever=retriever,\n",
    "    verbose=True\n",
    ")"
   ]
  },
  {
   "cell_type": "markdown",
   "id": "f4d11f50",
   "metadata": {},
   "source": [
    "**8. Implementing Token Truncation**\n",
    "\n",
    "Define a function to ensure the augmented context stays within the LLM’s specified token limit, truncating the input when necessary."
   ]
  },
  {
   "cell_type": "code",
   "execution_count": null,
   "id": "3bdb1226",
   "metadata": {},
   "outputs": [],
   "source": [
    "def truncate_to_max_tokens(text, max_tokens=500):\n",
    "    tokens = text.split()\n",
    "    if len(tokens) > max_tokens:\n",
    "        return \" \".join(tokens[:max_tokens])\n",
    "    return text"
   ]
  },
  {
   "cell_type": "markdown",
   "id": "991760d8",
   "metadata": {},
   "source": [
    "**9. Testing the RAG"
   ]
  }
 ],
 "metadata": {
  "language_info": {
   "name": "python"
  }
 },
 "nbformat": 4,
 "nbformat_minor": 5
}
